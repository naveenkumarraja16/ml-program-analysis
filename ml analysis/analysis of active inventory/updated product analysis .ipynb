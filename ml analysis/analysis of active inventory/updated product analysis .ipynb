{
 "cells": [
  {
   "cell_type": "raw",
   "id": "173f8fab",
   "metadata": {},
   "source": [
    "Inventory Management --- ABC Analysis\n",
    "The project is to provide information about the number of items that constitute a certain percentage of inventory dollars and also help to distinguish the products in stock and focus on managing them based on their worth. Based on the result of the analysis, try to make maximum out of minimum investment without wasting any resources or inventory."
   ]
  },
  {
   "cell_type": "markdown",
   "id": "453c1748",
   "metadata": {},
   "source": [
    "# Data Preparing"
   ]
  },
  {
   "cell_type": "raw",
   "id": "bbafebef",
   "metadata": {},
   "source": [
    "Data loading"
   ]
  },
  {
   "cell_type": "code",
   "execution_count": 1,
   "id": "3b48d40b",
   "metadata": {},
   "outputs": [],
   "source": [
    "import numpy as np\n",
    "import pandas as pd\n",
    "import matplotlib.pyplot as plt \n",
    "import seaborn as sns"
   ]
  },
  {
   "cell_type": "code",
   "execution_count": 2,
   "id": "cf83c85d",
   "metadata": {},
   "outputs": [],
   "source": [
    "df = pd.read_csv('dataset/SalesKaggle3.csv')"
   ]
  },
  {
   "cell_type": "code",
   "execution_count": 3,
   "id": "7fa12872",
   "metadata": {},
   "outputs": [
    {
     "data": {
      "text/html": [
       "<div>\n",
       "<style scoped>\n",
       "    .dataframe tbody tr th:only-of-type {\n",
       "        vertical-align: middle;\n",
       "    }\n",
       "\n",
       "    .dataframe tbody tr th {\n",
       "        vertical-align: top;\n",
       "    }\n",
       "\n",
       "    .dataframe thead th {\n",
       "        text-align: right;\n",
       "    }\n",
       "</style>\n",
       "<table border=\"1\" class=\"dataframe\">\n",
       "  <thead>\n",
       "    <tr style=\"text-align: right;\">\n",
       "      <th></th>\n",
       "      <th>Order</th>\n",
       "      <th>File_Type</th>\n",
       "      <th>SKU_number</th>\n",
       "      <th>SoldFlag</th>\n",
       "      <th>SoldCount</th>\n",
       "      <th>MarketingType</th>\n",
       "      <th>ReleaseNumber</th>\n",
       "      <th>New_Release_Flag</th>\n",
       "      <th>StrengthFactor</th>\n",
       "      <th>PriceReg</th>\n",
       "      <th>ReleaseYear</th>\n",
       "      <th>ItemCount</th>\n",
       "      <th>LowUserPrice</th>\n",
       "      <th>LowNetPrice</th>\n",
       "    </tr>\n",
       "  </thead>\n",
       "  <tbody>\n",
       "    <tr>\n",
       "      <th>0</th>\n",
       "      <td>2</td>\n",
       "      <td>Historical</td>\n",
       "      <td>1737127</td>\n",
       "      <td>0.0</td>\n",
       "      <td>0.0</td>\n",
       "      <td>D</td>\n",
       "      <td>15</td>\n",
       "      <td>1</td>\n",
       "      <td>682743.0</td>\n",
       "      <td>44.99</td>\n",
       "      <td>2015</td>\n",
       "      <td>8</td>\n",
       "      <td>28.97</td>\n",
       "      <td>31.84</td>\n",
       "    </tr>\n",
       "    <tr>\n",
       "      <th>1</th>\n",
       "      <td>3</td>\n",
       "      <td>Historical</td>\n",
       "      <td>3255963</td>\n",
       "      <td>0.0</td>\n",
       "      <td>0.0</td>\n",
       "      <td>D</td>\n",
       "      <td>7</td>\n",
       "      <td>1</td>\n",
       "      <td>1016014.0</td>\n",
       "      <td>24.81</td>\n",
       "      <td>2005</td>\n",
       "      <td>39</td>\n",
       "      <td>0.00</td>\n",
       "      <td>15.54</td>\n",
       "    </tr>\n",
       "    <tr>\n",
       "      <th>2</th>\n",
       "      <td>4</td>\n",
       "      <td>Historical</td>\n",
       "      <td>612701</td>\n",
       "      <td>0.0</td>\n",
       "      <td>0.0</td>\n",
       "      <td>D</td>\n",
       "      <td>0</td>\n",
       "      <td>0</td>\n",
       "      <td>340464.0</td>\n",
       "      <td>46.00</td>\n",
       "      <td>2013</td>\n",
       "      <td>34</td>\n",
       "      <td>30.19</td>\n",
       "      <td>27.97</td>\n",
       "    </tr>\n",
       "    <tr>\n",
       "      <th>3</th>\n",
       "      <td>6</td>\n",
       "      <td>Historical</td>\n",
       "      <td>115883</td>\n",
       "      <td>1.0</td>\n",
       "      <td>1.0</td>\n",
       "      <td>D</td>\n",
       "      <td>4</td>\n",
       "      <td>1</td>\n",
       "      <td>334011.0</td>\n",
       "      <td>100.00</td>\n",
       "      <td>2006</td>\n",
       "      <td>20</td>\n",
       "      <td>133.93</td>\n",
       "      <td>83.15</td>\n",
       "    </tr>\n",
       "    <tr>\n",
       "      <th>4</th>\n",
       "      <td>7</td>\n",
       "      <td>Historical</td>\n",
       "      <td>863939</td>\n",
       "      <td>1.0</td>\n",
       "      <td>1.0</td>\n",
       "      <td>D</td>\n",
       "      <td>2</td>\n",
       "      <td>1</td>\n",
       "      <td>1287938.0</td>\n",
       "      <td>121.95</td>\n",
       "      <td>2010</td>\n",
       "      <td>28</td>\n",
       "      <td>4.00</td>\n",
       "      <td>23.99</td>\n",
       "    </tr>\n",
       "  </tbody>\n",
       "</table>\n",
       "</div>"
      ],
      "text/plain": [
       "   Order   File_Type  SKU_number  SoldFlag  SoldCount MarketingType  \\\n",
       "0      2  Historical     1737127       0.0        0.0             D   \n",
       "1      3  Historical     3255963       0.0        0.0             D   \n",
       "2      4  Historical      612701       0.0        0.0             D   \n",
       "3      6  Historical      115883       1.0        1.0             D   \n",
       "4      7  Historical      863939       1.0        1.0             D   \n",
       "\n",
       "   ReleaseNumber  New_Release_Flag  StrengthFactor  PriceReg  ReleaseYear  \\\n",
       "0             15                 1        682743.0     44.99         2015   \n",
       "1              7                 1       1016014.0     24.81         2005   \n",
       "2              0                 0        340464.0     46.00         2013   \n",
       "3              4                 1        334011.0    100.00         2006   \n",
       "4              2                 1       1287938.0    121.95         2010   \n",
       "\n",
       "   ItemCount  LowUserPrice  LowNetPrice  \n",
       "0          8         28.97        31.84  \n",
       "1         39          0.00        15.54  \n",
       "2         34         30.19        27.97  \n",
       "3         20        133.93        83.15  \n",
       "4         28          4.00        23.99  "
      ]
     },
     "execution_count": 3,
     "metadata": {},
     "output_type": "execute_result"
    }
   ],
   "source": [
    "df.head()"
   ]
  },
  {
   "cell_type": "raw",
   "id": "50992dbe",
   "metadata": {},
   "source": [
    "Data preprocessing"
   ]
  },
  {
   "cell_type": "code",
   "execution_count": 4,
   "id": "3d7fac3b",
   "metadata": {},
   "outputs": [],
   "source": [
    "# take a subset of the data\n",
    "df_sub = df[['SKU_number','PriceReg','ItemCount','File_Type']][(df['File_Type']) == 'Historical']"
   ]
  },
  {
   "cell_type": "code",
   "execution_count": 5,
   "id": "3683d273",
   "metadata": {},
   "outputs": [
    {
     "data": {
      "text/html": [
       "<div>\n",
       "<style scoped>\n",
       "    .dataframe tbody tr th:only-of-type {\n",
       "        vertical-align: middle;\n",
       "    }\n",
       "\n",
       "    .dataframe tbody tr th {\n",
       "        vertical-align: top;\n",
       "    }\n",
       "\n",
       "    .dataframe thead th {\n",
       "        text-align: right;\n",
       "    }\n",
       "</style>\n",
       "<table border=\"1\" class=\"dataframe\">\n",
       "  <thead>\n",
       "    <tr style=\"text-align: right;\">\n",
       "      <th></th>\n",
       "      <th>SKU_number</th>\n",
       "      <th>PriceReg</th>\n",
       "      <th>ItemCount</th>\n",
       "      <th>File_Type</th>\n",
       "    </tr>\n",
       "  </thead>\n",
       "  <tbody>\n",
       "    <tr>\n",
       "      <th>0</th>\n",
       "      <td>1737127</td>\n",
       "      <td>44.99</td>\n",
       "      <td>8</td>\n",
       "      <td>Historical</td>\n",
       "    </tr>\n",
       "    <tr>\n",
       "      <th>1</th>\n",
       "      <td>3255963</td>\n",
       "      <td>24.81</td>\n",
       "      <td>39</td>\n",
       "      <td>Historical</td>\n",
       "    </tr>\n",
       "    <tr>\n",
       "      <th>2</th>\n",
       "      <td>612701</td>\n",
       "      <td>46.00</td>\n",
       "      <td>34</td>\n",
       "      <td>Historical</td>\n",
       "    </tr>\n",
       "    <tr>\n",
       "      <th>3</th>\n",
       "      <td>115883</td>\n",
       "      <td>100.00</td>\n",
       "      <td>20</td>\n",
       "      <td>Historical</td>\n",
       "    </tr>\n",
       "    <tr>\n",
       "      <th>4</th>\n",
       "      <td>863939</td>\n",
       "      <td>121.95</td>\n",
       "      <td>28</td>\n",
       "      <td>Historical</td>\n",
       "    </tr>\n",
       "  </tbody>\n",
       "</table>\n",
       "</div>"
      ],
      "text/plain": [
       "   SKU_number  PriceReg  ItemCount   File_Type\n",
       "0     1737127     44.99          8  Historical\n",
       "1     3255963     24.81         39  Historical\n",
       "2      612701     46.00         34  Historical\n",
       "3      115883    100.00         20  Historical\n",
       "4      863939    121.95         28  Historical"
      ]
     },
     "execution_count": 5,
     "metadata": {},
     "output_type": "execute_result"
    }
   ],
   "source": [
    "df_sub.head()"
   ]
  },
  {
   "cell_type": "code",
   "execution_count": 6,
   "id": "d83fdc3b",
   "metadata": {},
   "outputs": [
    {
     "data": {
      "text/plain": [
       "(75996, 4)"
      ]
     },
     "execution_count": 6,
     "metadata": {},
     "output_type": "execute_result"
    }
   ],
   "source": [
    "df_sub.shape"
   ]
  },
  {
   "cell_type": "code",
   "execution_count": 7,
   "id": "81b243fb",
   "metadata": {},
   "outputs": [
    {
     "name": "stdout",
     "output_type": "stream",
     "text": [
      "<class 'pandas.core.frame.DataFrame'>\n",
      "Int64Index: 75996 entries, 0 to 75995\n",
      "Data columns (total 4 columns):\n",
      " #   Column      Non-Null Count  Dtype  \n",
      "---  ------      --------------  -----  \n",
      " 0   SKU_number  75996 non-null  int64  \n",
      " 1   PriceReg    75996 non-null  float64\n",
      " 2   ItemCount   75996 non-null  int64  \n",
      " 3   File_Type   75996 non-null  object \n",
      "dtypes: float64(1), int64(2), object(1)\n",
      "memory usage: 2.9+ MB\n"
     ]
    }
   ],
   "source": [
    "df_sub.info()"
   ]
  },
  {
   "cell_type": "code",
   "execution_count": 8,
   "id": "dcb8adf3",
   "metadata": {},
   "outputs": [
    {
     "data": {
      "text/plain": [
       "0"
      ]
     },
     "execution_count": 8,
     "metadata": {},
     "output_type": "execute_result"
    }
   ],
   "source": [
    "df_sub.duplicated().sum()"
   ]
  },
  {
   "cell_type": "markdown",
   "id": "5adc732b",
   "metadata": {},
   "source": [
    "# Product Analysis (1st method)"
   ]
  },
  {
   "cell_type": "code",
   "execution_count": 9,
   "id": "438d65c9",
   "metadata": {},
   "outputs": [],
   "source": [
    "# create 3 grades A,B,C based on the running percentage (A-60%,B-25%,C-15%)\n",
    "def ABC_segmentation(RunPerc):\n",
    "    if RunPerc > 0 and RunPerc < 0.6:\n",
    "        return 'A'\n",
    "    elif RunPerc >=0.6 and RunPerc < 0.85:\n",
    "        return 'B'\n",
    "    elif RunPerc >=0.85:\n",
    "        return 'C'"
   ]
  },
  {
   "cell_type": "code",
   "execution_count": 10,
   "id": "9ebabfe3",
   "metadata": {},
   "outputs": [],
   "source": [
    "# create the column of the additive cost per SKU\n",
    "df_sub['AddCost'] = df_sub['PriceReg'] * df_sub['ItemCount']"
   ]
  },
  {
   "cell_type": "code",
   "execution_count": 11,
   "id": "42cb3c2e",
   "metadata": {},
   "outputs": [],
   "source": [
    "# order by AddCost\n",
    "df_sub = df_sub.sort_values(by=['AddCost'], ascending=False)"
   ]
  },
  {
   "cell_type": "code",
   "execution_count": 12,
   "id": "ff902a48",
   "metadata": {},
   "outputs": [],
   "source": [
    "# create the column of the running CumCost of the cumulative cost per SKU\n",
    "df_sub['RunCumCost'] = df_sub['AddCost'].cumsum()"
   ]
  },
  {
   "cell_type": "code",
   "execution_count": 13,
   "id": "b9f39c0a",
   "metadata": {},
   "outputs": [],
   "source": [
    "# create the column of the total sum\n",
    "df_sub['TotSum'] = df_sub['AddCost'].sum()"
   ]
  },
  {
   "cell_type": "code",
   "execution_count": 14,
   "id": "4f9e3dac",
   "metadata": {},
   "outputs": [],
   "source": [
    "# create the column of the running percentage \n",
    "df_sub['RunPerc'] = df_sub['RunCumCost'] / df_sub['TotSum']"
   ]
  },
  {
   "cell_type": "code",
   "execution_count": 15,
   "id": "f51fb887",
   "metadata": {},
   "outputs": [],
   "source": [
    "# create the column of the class\n",
    "df_sub['Class'] = df_sub['RunPerc'].apply(ABC_segmentation)"
   ]
  },
  {
   "cell_type": "code",
   "execution_count": 16,
   "id": "42d9bddc",
   "metadata": {},
   "outputs": [
    {
     "data": {
      "text/html": [
       "<div>\n",
       "<style scoped>\n",
       "    .dataframe tbody tr th:only-of-type {\n",
       "        vertical-align: middle;\n",
       "    }\n",
       "\n",
       "    .dataframe tbody tr th {\n",
       "        vertical-align: top;\n",
       "    }\n",
       "\n",
       "    .dataframe thead th {\n",
       "        text-align: right;\n",
       "    }\n",
       "</style>\n",
       "<table border=\"1\" class=\"dataframe\">\n",
       "  <thead>\n",
       "    <tr style=\"text-align: right;\">\n",
       "      <th></th>\n",
       "      <th>SKU_number</th>\n",
       "      <th>PriceReg</th>\n",
       "      <th>ItemCount</th>\n",
       "      <th>File_Type</th>\n",
       "      <th>AddCost</th>\n",
       "      <th>RunCumCost</th>\n",
       "      <th>TotSum</th>\n",
       "      <th>RunPerc</th>\n",
       "      <th>Class</th>\n",
       "    </tr>\n",
       "  </thead>\n",
       "  <tbody>\n",
       "    <tr>\n",
       "      <th>685</th>\n",
       "      <td>145889</td>\n",
       "      <td>244.6</td>\n",
       "      <td>851</td>\n",
       "      <td>Historical</td>\n",
       "      <td>208154.6</td>\n",
       "      <td>2.081546e+05</td>\n",
       "      <td>3.426320e+08</td>\n",
       "      <td>0.000608</td>\n",
       "      <td>A</td>\n",
       "    </tr>\n",
       "    <tr>\n",
       "      <th>601</th>\n",
       "      <td>435034</td>\n",
       "      <td>281.8</td>\n",
       "      <td>616</td>\n",
       "      <td>Historical</td>\n",
       "      <td>173588.8</td>\n",
       "      <td>3.817434e+05</td>\n",
       "      <td>3.426320e+08</td>\n",
       "      <td>0.001114</td>\n",
       "      <td>A</td>\n",
       "    </tr>\n",
       "    <tr>\n",
       "      <th>75056</th>\n",
       "      <td>538479</td>\n",
       "      <td>2645.3</td>\n",
       "      <td>49</td>\n",
       "      <td>Historical</td>\n",
       "      <td>129619.7</td>\n",
       "      <td>5.113631e+05</td>\n",
       "      <td>3.426320e+08</td>\n",
       "      <td>0.001492</td>\n",
       "      <td>A</td>\n",
       "    </tr>\n",
       "    <tr>\n",
       "      <th>5752</th>\n",
       "      <td>212633</td>\n",
       "      <td>235.6</td>\n",
       "      <td>521</td>\n",
       "      <td>Historical</td>\n",
       "      <td>122747.6</td>\n",
       "      <td>6.341107e+05</td>\n",
       "      <td>3.426320e+08</td>\n",
       "      <td>0.001851</td>\n",
       "      <td>A</td>\n",
       "    </tr>\n",
       "    <tr>\n",
       "      <th>3758</th>\n",
       "      <td>212480</td>\n",
       "      <td>208.8</td>\n",
       "      <td>579</td>\n",
       "      <td>Historical</td>\n",
       "      <td>120895.2</td>\n",
       "      <td>7.550059e+05</td>\n",
       "      <td>3.426320e+08</td>\n",
       "      <td>0.002204</td>\n",
       "      <td>A</td>\n",
       "    </tr>\n",
       "    <tr>\n",
       "      <th>...</th>\n",
       "      <td>...</td>\n",
       "      <td>...</td>\n",
       "      <td>...</td>\n",
       "      <td>...</td>\n",
       "      <td>...</td>\n",
       "      <td>...</td>\n",
       "      <td>...</td>\n",
       "      <td>...</td>\n",
       "      <td>...</td>\n",
       "    </tr>\n",
       "    <tr>\n",
       "      <th>4214</th>\n",
       "      <td>494166</td>\n",
       "      <td>0.0</td>\n",
       "      <td>7</td>\n",
       "      <td>Historical</td>\n",
       "      <td>0.0</td>\n",
       "      <td>3.426320e+08</td>\n",
       "      <td>3.426320e+08</td>\n",
       "      <td>1.000000</td>\n",
       "      <td>C</td>\n",
       "    </tr>\n",
       "    <tr>\n",
       "      <th>57965</th>\n",
       "      <td>1758095</td>\n",
       "      <td>0.0</td>\n",
       "      <td>8</td>\n",
       "      <td>Historical</td>\n",
       "      <td>0.0</td>\n",
       "      <td>3.426320e+08</td>\n",
       "      <td>3.426320e+08</td>\n",
       "      <td>1.000000</td>\n",
       "      <td>C</td>\n",
       "    </tr>\n",
       "    <tr>\n",
       "      <th>40803</th>\n",
       "      <td>744731</td>\n",
       "      <td>0.0</td>\n",
       "      <td>0</td>\n",
       "      <td>Historical</td>\n",
       "      <td>0.0</td>\n",
       "      <td>3.426320e+08</td>\n",
       "      <td>3.426320e+08</td>\n",
       "      <td>1.000000</td>\n",
       "      <td>C</td>\n",
       "    </tr>\n",
       "    <tr>\n",
       "      <th>40847</th>\n",
       "      <td>878815</td>\n",
       "      <td>0.0</td>\n",
       "      <td>29</td>\n",
       "      <td>Historical</td>\n",
       "      <td>0.0</td>\n",
       "      <td>3.426320e+08</td>\n",
       "      <td>3.426320e+08</td>\n",
       "      <td>1.000000</td>\n",
       "      <td>C</td>\n",
       "    </tr>\n",
       "    <tr>\n",
       "      <th>16367</th>\n",
       "      <td>874179</td>\n",
       "      <td>0.0</td>\n",
       "      <td>29</td>\n",
       "      <td>Historical</td>\n",
       "      <td>0.0</td>\n",
       "      <td>3.426320e+08</td>\n",
       "      <td>3.426320e+08</td>\n",
       "      <td>1.000000</td>\n",
       "      <td>C</td>\n",
       "    </tr>\n",
       "  </tbody>\n",
       "</table>\n",
       "<p>75996 rows × 9 columns</p>\n",
       "</div>"
      ],
      "text/plain": [
       "       SKU_number  PriceReg  ItemCount   File_Type   AddCost    RunCumCost  \\\n",
       "685        145889     244.6        851  Historical  208154.6  2.081546e+05   \n",
       "601        435034     281.8        616  Historical  173588.8  3.817434e+05   \n",
       "75056      538479    2645.3         49  Historical  129619.7  5.113631e+05   \n",
       "5752       212633     235.6        521  Historical  122747.6  6.341107e+05   \n",
       "3758       212480     208.8        579  Historical  120895.2  7.550059e+05   \n",
       "...           ...       ...        ...         ...       ...           ...   \n",
       "4214       494166       0.0          7  Historical       0.0  3.426320e+08   \n",
       "57965     1758095       0.0          8  Historical       0.0  3.426320e+08   \n",
       "40803      744731       0.0          0  Historical       0.0  3.426320e+08   \n",
       "40847      878815       0.0         29  Historical       0.0  3.426320e+08   \n",
       "16367      874179       0.0         29  Historical       0.0  3.426320e+08   \n",
       "\n",
       "             TotSum   RunPerc Class  \n",
       "685    3.426320e+08  0.000608     A  \n",
       "601    3.426320e+08  0.001114     A  \n",
       "75056  3.426320e+08  0.001492     A  \n",
       "5752   3.426320e+08  0.001851     A  \n",
       "3758   3.426320e+08  0.002204     A  \n",
       "...             ...       ...   ...  \n",
       "4214   3.426320e+08  1.000000     C  \n",
       "57965  3.426320e+08  1.000000     C  \n",
       "40803  3.426320e+08  1.000000     C  \n",
       "40847  3.426320e+08  1.000000     C  \n",
       "16367  3.426320e+08  1.000000     C  \n",
       "\n",
       "[75996 rows x 9 columns]"
      ]
     },
     "execution_count": 16,
     "metadata": {},
     "output_type": "execute_result"
    }
   ],
   "source": [
    "df_sub"
   ]
  },
  {
   "cell_type": "code",
   "execution_count": 17,
   "id": "bf01dfec",
   "metadata": {},
   "outputs": [
    {
     "data": {
      "text/plain": [
       "C    37413\n",
       "B    22288\n",
       "A    16295\n",
       "Name: Class, dtype: int64"
      ]
     },
     "execution_count": 17,
     "metadata": {},
     "output_type": "execute_result"
    }
   ],
   "source": [
    "# total SKUs for each class\n",
    "df_sub.Class.value_counts()"
   ]
  },
  {
   "cell_type": "code",
   "execution_count": 18,
   "id": "eed77f5a",
   "metadata": {},
   "outputs": [
    {
     "name": "stdout",
     "output_type": "stream",
     "text": [
      "Cost of Class A: 205577451.4\n",
      "Cost of Class B: 85658215.25999999\n",
      "Cost of Class C: 51396361.129999995\n"
     ]
    }
   ],
   "source": [
    "# total cost per class\n",
    "print('Cost of Class A:', df_sub[df_sub.Class == 'A']['AddCost'].sum())\n",
    "print('Cost of Class B:', df_sub[df_sub.Class == 'B']['AddCost'].sum())\n",
    "print('Cost of Class C:', df_sub[df_sub.Class == 'C']['AddCost'].sum())"
   ]
  },
  {
   "cell_type": "code",
   "execution_count": 19,
   "id": "90d768c8",
   "metadata": {},
   "outputs": [
    {
     "name": "stdout",
     "output_type": "stream",
     "text": [
      "Percent of Cost of A: 0.5999948479013728\n",
      "Percent of Cost of B: 0.2500006079773141\n",
      "Percent of Cost of C: 0.15000454412131298\n"
     ]
    }
   ],
   "source": [
    "# percent of total cost per class\n",
    "print('Percent of Cost of A:',df_sub[df_sub.Class == 'A']['AddCost'].sum()/df_sub['AddCost'].sum())\n",
    "print('Percent of Cost of B:',df_sub[df_sub.Class == 'B']['AddCost'].sum()/df_sub['AddCost'].sum())\n",
    "print('Percent of Cost of C:',df_sub[df_sub.Class == 'C']['AddCost'].sum()/df_sub['AddCost'].sum())"
   ]
  },
  {
   "cell_type": "raw",
   "id": "6e290b04",
   "metadata": {},
   "source": [
    "Category A items represent 21% of an overall inventory by item and represent 60% of value of an inventory.\\ Category B items represent 30% of inventory items by item, and about 25% of the value. \\ Category C items represent 49% of actual items but only 15% of the inventory value."
   ]
  },
  {
   "cell_type": "code",
   "execution_count": 20,
   "id": "49b6c9b3",
   "metadata": {},
   "outputs": [
    {
     "data": {
      "image/png": "[encoded data removed]",
      "text/plain": [
       "<Figure size 432x288 with 1 Axes>"
      ]
     },
     "metadata": {
      "needs_background": "light"
     },
     "output_type": "display_data"
    }
   ],
   "source": [
    "performance =df_sub['AddCost'].tolist()\n",
    "y_pos = np.arange(len(performance))\n",
    "\n",
    "plt.plot(y_pos, performance)\n",
    "plt.ylabel('Cost')\n",
    "plt.title('Product Analysis - Cost per SKU')\n",
    "plt.grid(True)\n",
    "plt.ylim((0,250000))\n",
    "plt.show()"
   ]
  },
  {
   "cell_type": "code",
   "execution_count": 21,
   "id": "6cdb0650",
   "metadata": {},
   "outputs": [
    {
     "data": {
      "image/png": "[encoded data removed]",
      "text/plain": [
       "<Figure size 432x288 with 1 Axes>"
      ]
     },
     "metadata": {
      "needs_background": "light"
     },
     "output_type": "display_data"
    }
   ],
   "source": [
    "performance = df_sub['RunPerc'].tolist()\n",
    "y_pos = np.arange(len(performance))\n",
    "\n",
    "plt.plot(y_pos,performance)\n",
    "plt.ylabel('Running Total Percentage')\n",
    "plt.title('Product Analysis - Cumulative Cost per SKU')\n",
    "plt.grid(True)\n",
    "plt.show()"
   ]
  },
  {
   "cell_type": "raw",
   "id": "464b898e",
   "metadata": {},
   "source": [
    "Product  Analysis (2st method build-in function)(/////////abc analysis)"
   ]
  },
  {
   "cell_type": "code",
   "execution_count": 23,
   "id": "740fa5d1",
   "metadata": {},
   "outputs": [],
   "source": [
    "from abc_analysis import abc_analysis, abc_plot"
   ]
  },
  {
   "cell_type": "code",
   "execution_count": 24,
   "id": "fa4fdfbb",
   "metadata": {},
   "outputs": [],
   "source": [
    "# take a subset of the data, we need to use the price and the quantity of each item\n",
    "df_sub = df[['SKU_number','PriceReg','ItemCount','File_Type']][(df['File_Type'] == 'Historical')]\n",
    "# create the column of the additive cost per SKU\n",
    "df_sub['AddCost'] = df['PriceReg'] * df['ItemCount']"
   ]
  },
  {
   "cell_type": "code",
   "execution_count": 25,
   "id": "e6b55463",
   "metadata": {},
   "outputs": [
    {
     "data": {
      "text/html": [
       "<div>\n",
       "<style scoped>\n",
       "    .dataframe tbody tr th:only-of-type {\n",
       "        vertical-align: middle;\n",
       "    }\n",
       "\n",
       "    .dataframe tbody tr th {\n",
       "        vertical-align: top;\n",
       "    }\n",
       "\n",
       "    .dataframe thead th {\n",
       "        text-align: right;\n",
       "    }\n",
       "</style>\n",
       "<table border=\"1\" class=\"dataframe\">\n",
       "  <thead>\n",
       "    <tr style=\"text-align: right;\">\n",
       "      <th></th>\n",
       "      <th>SKU_number</th>\n",
       "      <th>PriceReg</th>\n",
       "      <th>ItemCount</th>\n",
       "      <th>File_Type</th>\n",
       "      <th>AddCost</th>\n",
       "    </tr>\n",
       "  </thead>\n",
       "  <tbody>\n",
       "    <tr>\n",
       "      <th>0</th>\n",
       "      <td>1737127</td>\n",
       "      <td>44.99</td>\n",
       "      <td>8</td>\n",
       "      <td>Historical</td>\n",
       "      <td>359.92</td>\n",
       "    </tr>\n",
       "    <tr>\n",
       "      <th>1</th>\n",
       "      <td>3255963</td>\n",
       "      <td>24.81</td>\n",
       "      <td>39</td>\n",
       "      <td>Historical</td>\n",
       "      <td>967.59</td>\n",
       "    </tr>\n",
       "    <tr>\n",
       "      <th>2</th>\n",
       "      <td>612701</td>\n",
       "      <td>46.00</td>\n",
       "      <td>34</td>\n",
       "      <td>Historical</td>\n",
       "      <td>1564.00</td>\n",
       "    </tr>\n",
       "    <tr>\n",
       "      <th>3</th>\n",
       "      <td>115883</td>\n",
       "      <td>100.00</td>\n",
       "      <td>20</td>\n",
       "      <td>Historical</td>\n",
       "      <td>2000.00</td>\n",
       "    </tr>\n",
       "    <tr>\n",
       "      <th>4</th>\n",
       "      <td>863939</td>\n",
       "      <td>121.95</td>\n",
       "      <td>28</td>\n",
       "      <td>Historical</td>\n",
       "      <td>3414.60</td>\n",
       "    </tr>\n",
       "    <tr>\n",
       "      <th>...</th>\n",
       "      <td>...</td>\n",
       "      <td>...</td>\n",
       "      <td>...</td>\n",
       "      <td>...</td>\n",
       "      <td>...</td>\n",
       "    </tr>\n",
       "    <tr>\n",
       "      <th>75991</th>\n",
       "      <td>863599</td>\n",
       "      <td>64.99</td>\n",
       "      <td>34</td>\n",
       "      <td>Historical</td>\n",
       "      <td>2209.66</td>\n",
       "    </tr>\n",
       "    <tr>\n",
       "      <th>75992</th>\n",
       "      <td>614304</td>\n",
       "      <td>21.50</td>\n",
       "      <td>53</td>\n",
       "      <td>Historical</td>\n",
       "      <td>1139.50</td>\n",
       "    </tr>\n",
       "    <tr>\n",
       "      <th>75993</th>\n",
       "      <td>109021</td>\n",
       "      <td>142.75</td>\n",
       "      <td>19</td>\n",
       "      <td>Historical</td>\n",
       "      <td>2712.25</td>\n",
       "    </tr>\n",
       "    <tr>\n",
       "      <th>75994</th>\n",
       "      <td>658242</td>\n",
       "      <td>50.00</td>\n",
       "      <td>21</td>\n",
       "      <td>Historical</td>\n",
       "      <td>1050.00</td>\n",
       "    </tr>\n",
       "    <tr>\n",
       "      <th>75995</th>\n",
       "      <td>2538340</td>\n",
       "      <td>46.95</td>\n",
       "      <td>23</td>\n",
       "      <td>Historical</td>\n",
       "      <td>1079.85</td>\n",
       "    </tr>\n",
       "  </tbody>\n",
       "</table>\n",
       "<p>75996 rows × 5 columns</p>\n",
       "</div>"
      ],
      "text/plain": [
       "       SKU_number  PriceReg  ItemCount   File_Type  AddCost\n",
       "0         1737127     44.99          8  Historical   359.92\n",
       "1         3255963     24.81         39  Historical   967.59\n",
       "2          612701     46.00         34  Historical  1564.00\n",
       "3          115883    100.00         20  Historical  2000.00\n",
       "4          863939    121.95         28  Historical  3414.60\n",
       "...           ...       ...        ...         ...      ...\n",
       "75991      863599     64.99         34  Historical  2209.66\n",
       "75992      614304     21.50         53  Historical  1139.50\n",
       "75993      109021    142.75         19  Historical  2712.25\n",
       "75994      658242     50.00         21  Historical  1050.00\n",
       "75995     2538340     46.95         23  Historical  1079.85\n",
       "\n",
       "[75996 rows x 5 columns]"
      ]
     },
     "execution_count": 25,
     "metadata": {},
     "output_type": "execute_result"
    }
   ],
   "source": [
    "df_sub"
   ]
  },
  {
   "cell_type": "code",
   "execution_count": 26,
   "id": "da9e02e5",
   "metadata": {},
   "outputs": [
    {
     "name": "stderr",
     "output_type": "stream",
     "text": [
      "C:\\Users\\Naveen Kumar R\\anaconda3\\lib\\site-packages\\abc_analysis\\abc_analysis.py:163: FutureWarning: The series.append method is deprecated and will be removed from pandas in a future version. Use pandas.concat instead.\n",
      "  y = pd.Series([0]).append(y)\n",
      "C:\\Users\\Naveen Kumar R\\anaconda3\\lib\\site-packages\\abc_analysis\\abc_analysis.py:164: FutureWarning: The series.append method is deprecated and will be removed from pandas in a future version. Use pandas.concat instead.\n",
      "  x = pd.Series([0]).append(x)\n"
     ]
    },
    {
     "data": {
      "image/png": "[encoded data removed]",
      "text/plain": [
       "<Figure size 432x432 with 1 Axes>"
      ]
     },
     "metadata": {},
     "output_type": "display_data"
    }
   ],
   "source": [
    "#Draw the ABC Product Graph\n",
    "abc = abc_analysis(df_sub['AddCost'], True)"
   ]
  },
  {
   "cell_type": "code",
   "execution_count": 27,
   "id": "d2fadae3",
   "metadata": {},
   "outputs": [
    {
     "data": {
      "text/html": [
       "<div>\n",
       "<style scoped>\n",
       "    .dataframe tbody tr th:only-of-type {\n",
       "        vertical-align: middle;\n",
       "    }\n",
       "\n",
       "    .dataframe tbody tr th {\n",
       "        vertical-align: top;\n",
       "    }\n",
       "\n",
       "    .dataframe thead th {\n",
       "        text-align: right;\n",
       "    }\n",
       "</style>\n",
       "<table border=\"1\" class=\"dataframe\">\n",
       "  <thead>\n",
       "    <tr style=\"text-align: right;\">\n",
       "      <th></th>\n",
       "      <th>SKU_number</th>\n",
       "      <th>PriceReg</th>\n",
       "      <th>ItemCount</th>\n",
       "      <th>File_Type</th>\n",
       "      <th>AddCost</th>\n",
       "      <th>abc</th>\n",
       "    </tr>\n",
       "  </thead>\n",
       "  <tbody>\n",
       "    <tr>\n",
       "      <th>685</th>\n",
       "      <td>145889</td>\n",
       "      <td>244.6</td>\n",
       "      <td>851</td>\n",
       "      <td>Historical</td>\n",
       "      <td>208154.6</td>\n",
       "      <td>A</td>\n",
       "    </tr>\n",
       "    <tr>\n",
       "      <th>601</th>\n",
       "      <td>435034</td>\n",
       "      <td>281.8</td>\n",
       "      <td>616</td>\n",
       "      <td>Historical</td>\n",
       "      <td>173588.8</td>\n",
       "      <td>A</td>\n",
       "    </tr>\n",
       "    <tr>\n",
       "      <th>75056</th>\n",
       "      <td>538479</td>\n",
       "      <td>2645.3</td>\n",
       "      <td>49</td>\n",
       "      <td>Historical</td>\n",
       "      <td>129619.7</td>\n",
       "      <td>A</td>\n",
       "    </tr>\n",
       "    <tr>\n",
       "      <th>5752</th>\n",
       "      <td>212633</td>\n",
       "      <td>235.6</td>\n",
       "      <td>521</td>\n",
       "      <td>Historical</td>\n",
       "      <td>122747.6</td>\n",
       "      <td>A</td>\n",
       "    </tr>\n",
       "    <tr>\n",
       "      <th>3758</th>\n",
       "      <td>212480</td>\n",
       "      <td>208.8</td>\n",
       "      <td>579</td>\n",
       "      <td>Historical</td>\n",
       "      <td>120895.2</td>\n",
       "      <td>A</td>\n",
       "    </tr>\n",
       "    <tr>\n",
       "      <th>...</th>\n",
       "      <td>...</td>\n",
       "      <td>...</td>\n",
       "      <td>...</td>\n",
       "      <td>...</td>\n",
       "      <td>...</td>\n",
       "      <td>...</td>\n",
       "    </tr>\n",
       "    <tr>\n",
       "      <th>4214</th>\n",
       "      <td>494166</td>\n",
       "      <td>0.0</td>\n",
       "      <td>7</td>\n",
       "      <td>Historical</td>\n",
       "      <td>0.0</td>\n",
       "      <td>C</td>\n",
       "    </tr>\n",
       "    <tr>\n",
       "      <th>57965</th>\n",
       "      <td>1758095</td>\n",
       "      <td>0.0</td>\n",
       "      <td>8</td>\n",
       "      <td>Historical</td>\n",
       "      <td>0.0</td>\n",
       "      <td>C</td>\n",
       "    </tr>\n",
       "    <tr>\n",
       "      <th>40803</th>\n",
       "      <td>744731</td>\n",
       "      <td>0.0</td>\n",
       "      <td>0</td>\n",
       "      <td>Historical</td>\n",
       "      <td>0.0</td>\n",
       "      <td>C</td>\n",
       "    </tr>\n",
       "    <tr>\n",
       "      <th>40847</th>\n",
       "      <td>878815</td>\n",
       "      <td>0.0</td>\n",
       "      <td>29</td>\n",
       "      <td>Historical</td>\n",
       "      <td>0.0</td>\n",
       "      <td>C</td>\n",
       "    </tr>\n",
       "    <tr>\n",
       "      <th>16367</th>\n",
       "      <td>874179</td>\n",
       "      <td>0.0</td>\n",
       "      <td>29</td>\n",
       "      <td>Historical</td>\n",
       "      <td>0.0</td>\n",
       "      <td>C</td>\n",
       "    </tr>\n",
       "  </tbody>\n",
       "</table>\n",
       "<p>75996 rows × 6 columns</p>\n",
       "</div>"
      ],
      "text/plain": [
       "       SKU_number  PriceReg  ItemCount   File_Type   AddCost abc\n",
       "685        145889     244.6        851  Historical  208154.6   A\n",
       "601        435034     281.8        616  Historical  173588.8   A\n",
       "75056      538479    2645.3         49  Historical  129619.7   A\n",
       "5752       212633     235.6        521  Historical  122747.6   A\n",
       "3758       212480     208.8        579  Historical  120895.2   A\n",
       "...           ...       ...        ...         ...       ...  ..\n",
       "4214       494166       0.0          7  Historical       0.0   C\n",
       "57965     1758095       0.0          8  Historical       0.0   C\n",
       "40803      744731       0.0          0  Historical       0.0   C\n",
       "40847      878815       0.0         29  Historical       0.0   C\n",
       "16367      874179       0.0         29  Historical       0.0   C\n",
       "\n",
       "[75996 rows x 6 columns]"
      ]
     },
     "execution_count": 27,
     "metadata": {},
     "output_type": "execute_result"
    }
   ],
   "source": [
    "# idnex position of A, B, and C Segmentations\n",
    "a_index = abc['Aind']\n",
    "b_index = abc['Bind']\n",
    "c_index = abc['Cind']\n",
    "\n",
    "# New Column indicating A, B, or C\n",
    "cond_list = [df_sub.index.isin(a_index),\n",
    "             df_sub.index.isin(b_index),\n",
    "             df_sub.index.isin(c_index)]\n",
    "\n",
    "choice_list = ['A','B','C']\n",
    "\n",
    "df_sub['abc'] = np.select(cond_list, choice_list)\n",
    "df_sub.sort_values(by=['AddCost'], ascending=False)"
   ]
  },
  {
   "cell_type": "code",
   "execution_count": 28,
   "id": "6930ced6",
   "metadata": {},
   "outputs": [
    {
     "data": {
      "text/plain": [
       "C    43074\n",
       "A    22036\n",
       "B    10886\n",
       "Name: abc, dtype: int64"
      ]
     },
     "execution_count": 28,
     "metadata": {},
     "output_type": "execute_result"
    }
   ],
   "source": [
    "df_sub['abc'].value_counts()"
   ]
  },
  {
   "cell_type": "code",
   "execution_count": null,
   "id": "2ea14558",
   "metadata": {},
   "outputs": [],
   "source": []
  }
 ],
 "metadata": {
  "kernelspec": {
   "display_name": "Python 3 (ipykernel)",
   "language": "python",
   "name": "python3"
  },
  "language_info": {
   "codemirror_mode": {
    "name": "ipython",
    "version": 3
   },
   "file_extension": ".py",
   "mimetype": "text/x-python",
   "name": "python",
   "nbconvert_exporter": "python",
   "pygments_lexer": "ipython3",
   "version": "3.9.12"
  }
 },
 "nbformat": 4,
 "nbformat_minor": 5
}
